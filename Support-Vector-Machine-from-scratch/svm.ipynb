{
 "cells": [
  {
   "cell_type": "code",
   "execution_count": 188,
   "id": "5bf2e199",
   "metadata": {},
   "outputs": [],
   "source": [
    "import numpy as np\n",
    "import matplotlib.pyplot as plt\n",
    "import seaborn as sns\n",
    "\n",
    "from sklearn.model_selection import train_test_split"
   ]
  },
  {
   "cell_type": "code",
   "execution_count": 189,
   "id": "589c17c5",
   "metadata": {},
   "outputs": [],
   "source": [
    "## Implementation of SVM algorithm ##\n",
    "class SVM:\n",
    "    def __init__(self, lr=0.001, lambda_param=0.01, n_iters=2000):\n",
    "        self.lr = lr                          # learning rate\n",
    "        self.lambda_param = lambda_param      # regularization strength\n",
    "        self.n_iters = n_iters                # number of training iterations\n",
    "        self.w = None                         # weight vector\n",
    "        self.b = None                         # bias term\n",
    "        self.loss_history = []                # track the loss during training\n",
    "\n",
    "    def _hinge_loss(self, margins):\n",
    "        \"\"\"Compute the hinge loss + regularization\"\"\"\n",
    "        losses = np.maximum(0, margins)   # hinge loss part\n",
    "        loss = np.mean(losses) + 0.5 * self.lambda_param * np.sum(self.w ** 2)\n",
    "        return loss\n",
    "\n",
    "    def _scores(self, X, w, b):\n",
    "        \"\"\"Compute f(x) = w·x + b\"\"\"\n",
    "        return np.dot(X, w) + b\n",
    "    \n",
    "    def fit(self, X, y, verbose=False):\n",
    "        \"\"\"Train the SVM model using gradient descent\"\"\"\n",
    "        # Ensure labels are -1 and +1\n",
    "        y = np.where(y <= 0, -1, 1)\n",
    "\n",
    "        n_samples, n_features = X.shape\n",
    "        self.w = np.zeros(n_features)\n",
    "        self.b = 0.0\n",
    "\n",
    "        for it in range(self.n_iters):\n",
    "            # Compute margins: 1 - y * (w·x + b)\n",
    "            scores = self._scores(X, self.w, self.b)\n",
    "            margins = 1 - y * scores\n",
    "\n",
    "            # Compute loss and store it\n",
    "            loss = self._hinge_loss(margins)\n",
    "            self.loss_history.append(loss)\n",
    "\n",
    "            # Indicator function: active only if margin > 0\n",
    "            mask = margins > 0\n",
    "\n",
    "            # Gradients (directly from the math formulas)\n",
    "            dw,db = self._gradients(X,y,self.w,n_samples,mask)\n",
    "\n",
    "            # Update parameters\n",
    "            self.w -= self.lr * dw\n",
    "            self.b -= self.lr * db\n",
    "\n",
    "            # (Optional) Show progress\n",
    "            if verbose and it % 100 == 0:\n",
    "                print(f'Iteration {it}/{self.n_iters} - Loss: {loss:.4f}')\n",
    "        if verbose:\n",
    "            self._plot_loss()\n",
    "        \n",
    "    def predict(self,X):\n",
    "        aproxx = self._scores(X,self.w,self.b)\n",
    "        return np.sign(aproxx)\n",
    "        \n",
    "    def _gradients(self,X,y,w,n_samples,mask):\n",
    "        \"\"\"Calculate the gradients of the parameters\"\"\"\n",
    "        dw = self.lambda_param * w - (1/n_samples) * np.sum((mask * y)[:, None] * X, axis=0)\n",
    "        db = -(1/n_samples) * np.sum(mask * y)\n",
    "        return dw,db\n",
    "    \n",
    "    def _plot_loss(self):\n",
    "        \"\"\"Plot the error history\"\"\"\n",
    "        plt.figure(figsize=(8,6))\n",
    "        sns.lineplot(x=range(len(self.loss_history)), y=self.loss_history)\n",
    "        plt.title('Loss History')\n",
    "        plt.xlabel('Iterations')\n",
    "        plt.ylabel('Loss')\n",
    "        plt.show()"
   ]
  },
  {
   "cell_type": "code",
   "execution_count": 190,
   "id": "d94a8db7",
   "metadata": {},
   "outputs": [],
   "source": [
    "from sklearn.datasets import make_blobs\n",
    "\n",
    "# Dataset\n",
    "X, y = make_blobs(n_samples=200, n_features=2, centers=2, random_state=42)\n",
    "y = np.where(y == 0, -1, 1)  # Convertimos etiquetas\n",
    "\n",
    "X_train, X_test, y_train, y_test = train_test_split(X, y, test_size=0.2, random_state=42)"
   ]
  },
  {
   "cell_type": "code",
   "execution_count": 191,
   "id": "ffa1b43e",
   "metadata": {},
   "outputs": [
    {
     "name": "stdout",
     "output_type": "stream",
     "text": [
      "Iteration 0/7000 - Loss: 1.0000\n",
      "Iteration 100/7000 - Loss: 0.7550\n",
      "Iteration 200/7000 - Loss: 0.5103\n",
      "Iteration 300/7000 - Loss: 0.3578\n",
      "Iteration 400/7000 - Loss: 0.2819\n",
      "Iteration 500/7000 - Loss: 0.2134\n",
      "Iteration 600/7000 - Loss: 0.1565\n",
      "Iteration 700/7000 - Loss: 0.1129\n",
      "Iteration 800/7000 - Loss: 0.0830\n",
      "Iteration 900/7000 - Loss: 0.0657\n",
      "Iteration 1000/7000 - Loss: 0.0539\n",
      "Iteration 1100/7000 - Loss: 0.0460\n",
      "Iteration 1200/7000 - Loss: 0.0398\n",
      "Iteration 1300/7000 - Loss: 0.0343\n",
      "Iteration 1400/7000 - Loss: 0.0304\n",
      "Iteration 1500/7000 - Loss: 0.0268\n",
      "Iteration 1600/7000 - Loss: 0.0242\n",
      "Iteration 1700/7000 - Loss: 0.0225\n",
      "Iteration 1800/7000 - Loss: 0.0213\n",
      "Iteration 1900/7000 - Loss: 0.0202\n",
      "Iteration 2000/7000 - Loss: 0.0193\n",
      "Iteration 2100/7000 - Loss: 0.0185\n",
      "Iteration 2200/7000 - Loss: 0.0177\n",
      "Iteration 2300/7000 - Loss: 0.0170\n",
      "Iteration 2400/7000 - Loss: 0.0163\n",
      "Iteration 2500/7000 - Loss: 0.0157\n",
      "Iteration 2600/7000 - Loss: 0.0151\n",
      "Iteration 2700/7000 - Loss: 0.0145\n",
      "Iteration 2800/7000 - Loss: 0.0140\n",
      "Iteration 2900/7000 - Loss: 0.0137\n",
      "Iteration 3000/7000 - Loss: 0.0134\n",
      "Iteration 3100/7000 - Loss: 0.0132\n",
      "Iteration 3200/7000 - Loss: 0.0129\n",
      "Iteration 3300/7000 - Loss: 0.0127\n",
      "Iteration 3400/7000 - Loss: 0.0126\n",
      "Iteration 3500/7000 - Loss: 0.0124\n",
      "Iteration 3600/7000 - Loss: 0.0122\n",
      "Iteration 3700/7000 - Loss: 0.0120\n",
      "Iteration 3800/7000 - Loss: 0.0119\n",
      "Iteration 3900/7000 - Loss: 0.0117\n",
      "Iteration 4000/7000 - Loss: 0.0115\n",
      "Iteration 4100/7000 - Loss: 0.0114\n",
      "Iteration 4200/7000 - Loss: 0.0112\n",
      "Iteration 4300/7000 - Loss: 0.0110\n",
      "Iteration 4400/7000 - Loss: 0.0108\n",
      "Iteration 4500/7000 - Loss: 0.0107\n",
      "Iteration 4600/7000 - Loss: 0.0105\n",
      "Iteration 4700/7000 - Loss: 0.0103\n",
      "Iteration 4800/7000 - Loss: 0.0101\n",
      "Iteration 4900/7000 - Loss: 0.0100\n",
      "Iteration 5000/7000 - Loss: 0.0098\n",
      "Iteration 5100/7000 - Loss: 0.0096\n",
      "Iteration 5200/7000 - Loss: 0.0095\n",
      "Iteration 5300/7000 - Loss: 0.0093\n",
      "Iteration 5400/7000 - Loss: 0.0091\n",
      "Iteration 5500/7000 - Loss: 0.0090\n",
      "Iteration 5600/7000 - Loss: 0.0089\n",
      "Iteration 5700/7000 - Loss: 0.0087\n",
      "Iteration 5800/7000 - Loss: 0.0086\n",
      "Iteration 5900/7000 - Loss: 0.0085\n",
      "Iteration 6000/7000 - Loss: 0.0085\n",
      "Iteration 6100/7000 - Loss: 0.0084\n",
      "Iteration 6200/7000 - Loss: 0.0083\n",
      "Iteration 6300/7000 - Loss: 0.0082\n",
      "Iteration 6400/7000 - Loss: 0.0081\n",
      "Iteration 6500/7000 - Loss: 0.0081\n",
      "Iteration 6600/7000 - Loss: 0.0080\n",
      "Iteration 6700/7000 - Loss: 0.0079\n",
      "Iteration 6800/7000 - Loss: 0.0079\n",
      "Iteration 6900/7000 - Loss: 0.0078\n"
     ]
    },
    {
     "data": {
      "image/png": "[encoded data removed]",
      "text/plain": [
       "<Figure size 800x600 with 1 Axes>"
      ]
     },
     "metadata": {},
     "output_type": "display_data"
    }
   ],
   "source": [
    "# Fit the model\n",
    "svm = SVM(lr=0.0001,n_iters=7000)\n",
    "svm.fit(X_train,y_train,verbose=True)"
   ]
  },
  {
   "cell_type": "code",
   "execution_count": 192,
   "id": "475753ab",
   "metadata": {},
   "outputs": [
    {
     "name": "stdout",
     "output_type": "stream",
     "text": [
      "Accuracy train: 100.00%, test: 100.00%\n"
     ]
    }
   ],
   "source": [
    "# Accuracy\n",
    "train_acc = np.mean(svm.predict(X_train) == y_train)\n",
    "test_acc = np.mean(svm.predict(X_test) == y_test)\n",
    "print(f\"Accuracy train: {train_acc*100:.2f}%, test: {test_acc*100:.2f}%\")"
   ]
  }
 ],
 "metadata": {
  "kernelspec": {
   "display_name": ".venv",
   "language": "python",
   "name": "python3"
  },
  "language_info": {
   "codemirror_mode": {
    "name": "ipython",
    "version": 3
   },
   "file_extension": ".py",
   "mimetype": "text/x-python",
   "name": "python",
   "nbconvert_exporter": "python",
   "pygments_lexer": "ipython3",
   "version": "3.13.7"
  }
 },
 "nbformat": 4,
 "nbformat_minor": 5
}
